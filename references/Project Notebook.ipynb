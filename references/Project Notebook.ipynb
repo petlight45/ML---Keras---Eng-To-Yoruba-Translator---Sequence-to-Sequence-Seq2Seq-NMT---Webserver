{
 "cells": [
  {
   "cell_type": "code",
   "execution_count": 37,
   "id": "80b96695",
   "metadata": {},
   "outputs": [],
   "source": [
    "import string\n",
    "import re\n",
    "from numpy import array, argmax, random, take\n",
    "import pandas as pd\n",
    "from keras.models import Sequential\n",
    "from keras.layers import Dense, LSTM, Embedding, RepeatVector\n",
    "from keras.preprocessing.text import Tokenizer\n",
    "from keras.callbacks import ModelCheckpoint, EarlyStopping\n",
    "from keras.preprocessing.sequence import pad_sequences\n",
    "from keras.models import load_model\n",
    "from keras import optimizers\n",
    "import numpy as np\n",
    "import matplotlib.pyplot as plt\n",
    "%matplotlib inline\n",
    "pd.set_option('display.max_colwidth', 200)\n",
    "import pickle"
   ]
  },
  {
   "cell_type": "code",
   "execution_count": 38,
   "id": "50d6d75e",
   "metadata": {},
   "outputs": [],
   "source": [
    "# Save python objects to file\n",
    "def save_obj_to_file(obj, name):\n",
    "    with open(f\"{name}.pickle\", 'wb') as handle:\n",
    "        pickle.dump(obj, handle, protocol=pickle.HIGHEST_PROTOCOL)"
   ]
  },
  {
   "cell_type": "code",
   "execution_count": 39,
   "id": "e9acec13",
   "metadata": {},
   "outputs": [],
   "source": [
    "# Loading python objects from file\n",
    "def load_obj_from_file(name):\n",
    "    with open(f'{name}.pickle', 'rb') as handle:\n",
    "        return pickle.load(handle)"
   ]
  },
  {
   "cell_type": "code",
   "execution_count": 40,
   "id": "c1259a63",
   "metadata": {},
   "outputs": [],
   "source": [
    "# function to read raw text file\n",
    "def read_text(filename):\n",
    "    # open the file\n",
    "    file = open(filename, mode='rt', encoding='utf-8')\n",
    "    # read all text\n",
    "    text = file.read()\n",
    "    file.close()\n",
    "    return text"
   ]
  },
  {
   "cell_type": "code",
   "execution_count": 41,
   "id": "3e432ce4",
   "metadata": {},
   "outputs": [],
   "source": [
    "# split a text into sentences\n",
    "def to_lines(text):\n",
    "    sents = text.strip().split('\\n')\n",
    "    sents_arr = []\n",
    "    for i in sents:\n",
    "        array = i.split(':::')\n",
    "        if len(array) != 2:\n",
    "            continue\n",
    "        sents_arr.append(array)\n",
    "    return sents_arr"
   ]
  },
  {
   "cell_type": "code",
   "execution_count": 42,
   "id": "14c16b4d",
   "metadata": {},
   "outputs": [],
   "source": [
    "data = read_text(\"./project_resource/data/eng_yor.txt\")\n",
    "data = to_lines(data)\n",
    "data = array(data)"
   ]
  },
  {
   "cell_type": "code",
   "execution_count": 43,
   "id": "fd8aeb28",
   "metadata": {},
   "outputs": [],
   "source": [
    "# Remove punctuation\n",
    "data[:,0] = [s.translate(str.maketrans('', '', string.punctuation)) for s in data[:,0]]\n",
    "data[:,1] = [s.translate(str.maketrans('', '', string.punctuation)) for s in data[:,1]]"
   ]
  },
  {
   "cell_type": "code",
   "execution_count": 44,
   "id": "71d93a01",
   "metadata": {},
   "outputs": [],
   "source": [
    "# convert to lowercase\n",
    "for i in range(len(data)):\n",
    "    data[i,0] = data[i,0].lower()\n",
    "    \n",
    "    data[i,1] = data[i,1].lower()"
   ]
  },
  {
   "cell_type": "markdown",
   "id": "842dc3b0",
   "metadata": {},
   "source": [
    "Text to Sequence Conversion\n",
    "<br>\n",
    "To feed our data in a Seq2Seq model, we will have to convert both the input and the output sentences into integer sequences of fixed length. Before that, let's visualise the length of the sentences. We will capture the lengths of all the sentences in two separate lists for English and German, respectively."
   ]
  },
  {
   "cell_type": "code",
   "execution_count": 45,
   "id": "8ef22030",
   "metadata": {},
   "outputs": [],
   "source": [
    "# empty lists\n",
    "eng_l = []\n",
    "yor_l = []\n",
    "\n",
    "# populate the lists with sentence lengths\n",
    "for i in data[:,0]:\n",
    "    eng_l.append(len(i.split()))\n",
    "\n",
    "for i in data[:,1]:\n",
    "    yor_l.append(len(i.split()))"
   ]
  },
  {
   "cell_type": "code",
   "execution_count": 46,
   "id": "24a598d7",
   "metadata": {},
   "outputs": [],
   "source": [
    "length_df = pd.DataFrame({'eng':eng_l, 'yor':yor_l})"
   ]
  },
  {
   "cell_type": "code",
   "execution_count": 47,
   "id": "bdf3591e",
   "metadata": {},
   "outputs": [
    {
     "data": {
      "image/png": "[encoded data removed]",
      "text/plain": [
       "<Figure size 640x480 with 2 Axes>"
      ]
     },
     "metadata": {},
     "output_type": "display_data"
    }
   ],
   "source": [
    "length_df.hist(bins = 30)\n",
    "plt.show()"
   ]
  },
  {
   "cell_type": "markdown",
   "id": "8e0c6358",
   "metadata": {},
   "source": [
    "Let's vectorize our text data by using Keras's Tokenizer() class. It will turn our sentences into sequences of integers. Then we will pad those sequences with zeros to make all the sequences of same length."
   ]
  },
  {
   "cell_type": "code",
   "execution_count": 48,
   "id": "970f8c0f",
   "metadata": {},
   "outputs": [],
   "source": [
    "# function to build a tokenizer\n",
    "def tokenization(lines):\n",
    "    tokenizer = Tokenizer()\n",
    "    tokenizer.fit_on_texts(lines)\n",
    "    return tokenizer"
   ]
  },
  {
   "cell_type": "code",
   "execution_count": 49,
   "id": "137b2415",
   "metadata": {},
   "outputs": [
    {
     "name": "stdout",
     "output_type": "stream",
     "text": [
      "English Vocabulary Size: 8114\n"
     ]
    }
   ],
   "source": [
    "# prepare english tokenizer\n",
    "eng_tokenizer = tokenization(data[:, 0])\n",
    "eng_vocab_size = len(eng_tokenizer.word_index) + 1\n",
    "\n",
    "eng_length = max(eng_l)\n",
    "print('English Vocabulary Size: %d' % eng_vocab_size)"
   ]
  },
  {
   "cell_type": "code",
   "execution_count": 50,
   "id": "2aef9492",
   "metadata": {},
   "outputs": [
    {
     "name": "stdout",
     "output_type": "stream",
     "text": [
      "Yoruba Vocabulary Size: 6291\n"
     ]
    }
   ],
   "source": [
    "# prepare Yoruba tokenizer\n",
    "yor_tokenizer = tokenization(data[:, 1])\n",
    "yor_vocab_size = len(yor_tokenizer.word_index) + 1\n",
    "\n",
    "yor_length = max(yor_l)\n",
    "print('Yoruba Vocabulary Size: %d' % yor_vocab_size)"
   ]
  },
  {
   "cell_type": "markdown",
   "id": "5d8464de",
   "metadata": {},
   "source": [
    "Given below is a function to prepare the sequences. It will also perform sequence padding to a maximum sentence length as mentioned above."
   ]
  },
  {
   "cell_type": "code",
   "execution_count": 51,
   "id": "e9352896",
   "metadata": {},
   "outputs": [],
   "source": [
    "# encode and pad sequences\n",
    "def encode_sequences(tokenizer, length, lines):\n",
    "    # integer encode sequences\n",
    "    seq = tokenizer.texts_to_sequences(lines)\n",
    "    # pad sequences with 0 values\n",
    "    seq = pad_sequences(seq, maxlen=length, padding='post')\n",
    "    return seq"
   ]
  },
  {
   "cell_type": "markdown",
   "id": "a7b35208",
   "metadata": {},
   "source": [
    "Model Building\n",
    "<br><br>\n",
    "We will now split the data into train and test set for model training and evaluation, respectively."
   ]
  },
  {
   "cell_type": "code",
   "execution_count": 52,
   "id": "d0fc9426",
   "metadata": {},
   "outputs": [],
   "source": [
    "from sklearn.model_selection import train_test_split\n",
    "train, test = train_test_split(data, test_size=0.02, random_state = 2)"
   ]
  },
  {
   "cell_type": "code",
   "execution_count": 53,
   "id": "d5ab4c45",
   "metadata": {},
   "outputs": [],
   "source": [
    "# prepare training data\n",
    "trainX = encode_sequences(eng_tokenizer, eng_length, train[:, 0])\n",
    "trainY = encode_sequences(yor_tokenizer, yor_length, train[:, 1])"
   ]
  },
  {
   "cell_type": "code",
   "execution_count": 54,
   "id": "e3a6ecb9",
   "metadata": {},
   "outputs": [],
   "source": [
    "# prepare validation data\n",
    "testX = encode_sequences(eng_tokenizer, eng_length, test[:, 0])\n",
    "testY = encode_sequences(yor_tokenizer, yor_length, test[:, 1])"
   ]
  },
  {
   "cell_type": "markdown",
   "id": "81867573",
   "metadata": {},
   "source": [
    "Now comes the exciting part! Let us define our Seq2Seq model architecture. We are using an Embedding layer and an LSTM layer as our encoder and another LSTM layer followed by a Dense layer as the decoder."
   ]
  },
  {
   "cell_type": "code",
   "execution_count": 55,
   "id": "69941c7c",
   "metadata": {},
   "outputs": [],
   "source": [
    "# build NMT model\n",
    "def build_model(in_vocab, out_vocab, in_timesteps, out_timesteps, units):\n",
    "    model = Sequential()\n",
    "    model.add(Embedding(in_vocab, units, input_length=in_timesteps, mask_zero=True))\n",
    "    model.add(LSTM(units))\n",
    "    model.add(RepeatVector(out_timesteps))\n",
    "    model.add(LSTM(units, return_sequences=True))\n",
    "    model.add(Dense(out_vocab, activation='softmax'))\n",
    "    return model"
   ]
  },
  {
   "cell_type": "markdown",
   "id": "14b5e3c4",
   "metadata": {},
   "source": [
    "We are using RMSprop optimizer in this model as it is usually a good choice for recurrent neural networks."
   ]
  },
  {
   "cell_type": "code",
   "execution_count": 56,
   "id": "6e0ba246",
   "metadata": {},
   "outputs": [],
   "source": [
    "model = build_model(eng_vocab_size, yor_vocab_size, eng_length, yor_length, 512)\n",
    "rms = optimizers.RMSprop(learning_rate=0.001)\n",
    "model.compile(optimizer=rms, loss='sparse_categorical_crossentropy')"
   ]
  },
  {
   "cell_type": "markdown",
   "id": "ed6b2708",
   "metadata": {},
   "source": [
    "Please note that we have used 'sparse_categorical_crossentropy' as the loss function because it allows us to use the target sequence as it is instead of one hot encoded format. One hot encoding the target sequences with such a huge vocabulary might consume our system's entire memory.\n",
    "\n",
    "<br>\n",
    "It seems we are all set to start training our model. We will train it for 30 epochs and with a batch size of 512. You may change and play these hyperparameters. We will also be using ModelCheckpoint() to save the best model with lowest validation loss. I personally prefer this method over early stopping."
   ]
  },
  {
   "cell_type": "code",
   "execution_count": null,
   "id": "15c39940",
   "metadata": {
    "scrolled": true
   },
   "outputs": [],
   "source": [
    "filename = 'model.h1.8_mar_24'\n",
    "checkpoint = ModelCheckpoint(filename, monitor='val_loss', verbose=1, save_best_only=True, mode='min')\n",
    "# Define the EarlyStopping callback\n",
    "early_stopping = EarlyStopping(monitor='val_loss', patience=5, restore_best_weights=True)\n",
    "\n",
    "history = model.fit(trainX, trainY.reshape(trainY.shape[0], trainY.shape[1], 1), \n",
    "          epochs=30, batch_size=45, \n",
    "          validation_split = 0.1,\n",
    "          callbacks=[checkpoint,early_stopping], verbose=1)"
   ]
  },
  {
   "cell_type": "code",
   "execution_count": null,
   "id": "6598a94c",
   "metadata": {},
   "outputs": [],
   "source": [
    "plt.plot(history.history['loss'])\n",
    "plt.plot(history.history['val_loss'])\n",
    "plt.legend(['train','validation'])\n",
    "plt.show()"
   ]
  },
  {
   "cell_type": "code",
   "execution_count": null,
   "id": "d1551ded",
   "metadata": {},
   "outputs": [],
   "source": [
    "# Savign the tokenizers to file;\n",
    "save_obj_to_file(eng_tokenizer, \"eng_tokenizer\")\n",
    "save_obj_to_file(yor_tokenizer, \"yor_tokenizer\")\n"
   ]
  },
  {
   "cell_type": "markdown",
   "id": "bb8875fa",
   "metadata": {},
   "source": [
    "Make Predictions\n",
    "<br>\n",
    "Let's load the saved model to make predictions."
   ]
  },
  {
   "cell_type": "code",
   "execution_count": null,
   "id": "a4a7b5a2",
   "metadata": {},
   "outputs": [],
   "source": [
    "model = load_model('model.h1.8_mar_24')\n",
    "preds = np.argmax(model.predict(testX.reshape((testX.shape[0],testX.shape[1]))),axis=-1)"
   ]
  },
  {
   "cell_type": "code",
   "execution_count": null,
   "id": "162ca8a8",
   "metadata": {},
   "outputs": [],
   "source": [
    "def get_word(n, tokenizer):\n",
    "    return tokenizer.index_word.get(n)"
   ]
  },
  {
   "cell_type": "code",
   "execution_count": null,
   "id": "3a336517",
   "metadata": {},
   "outputs": [],
   "source": [
    "# convert predictions into text (Yoruba)\n",
    "preds_text = []\n",
    "for i in preds:\n",
    "    temp = []\n",
    "    for j in range(len(i)):\n",
    "        t = get_word(i[j], yor_tokenizer)\n",
    "        if j > 0:\n",
    "            if (t == get_word(i[j-1], yor_tokenizer)) or (t == None):\n",
    "                temp.append('')\n",
    "            else:\n",
    "                temp.append(t)\n",
    "             \n",
    "        else:\n",
    "            if(t == None):\n",
    "                temp.append('')\n",
    "            else:\n",
    "                temp.append(t)            \n",
    "        \n",
    "    preds_text.append(' '.join(temp))"
   ]
  },
  {
   "cell_type": "code",
   "execution_count": null,
   "id": "9e538c07",
   "metadata": {},
   "outputs": [],
   "source": [
    "pred_df = pd.DataFrame({'actual' : test[:,0], 'predicted' : preds_text})"
   ]
  },
  {
   "cell_type": "code",
   "execution_count": null,
   "id": "b4760aa7",
   "metadata": {},
   "outputs": [],
   "source": [
    "pd.set_option('display.max_colwidth', 200)"
   ]
  },
  {
   "cell_type": "code",
   "execution_count": null,
   "id": "25312608",
   "metadata": {},
   "outputs": [],
   "source": [
    "pred_df.head(30)"
   ]
  },
  {
   "cell_type": "markdown",
   "id": "84079829",
   "metadata": {},
   "source": [
    "<h1>User Testing </h1>"
   ]
  },
  {
   "cell_type": "code",
   "execution_count": null,
   "id": "67833dc3",
   "metadata": {},
   "outputs": [],
   "source": [
    "array = [input(\"Enter text to translate: \")]\n",
    "testSample = encode_sequences(eng_tokenizer, eng_length, np.array(array))\n",
    "preds = np.argmax(model.predict(testSample.reshape((testSample.shape[0],testSample.shape[1]))),axis=-1)\n",
    "# convert predictions into text (Yoruba)\n",
    "preds_text = []\n",
    "for i in preds:\n",
    "    temp = []\n",
    "    for j in range(len(i)):\n",
    "        t = get_word(i[j], yor_tokenizer)\n",
    "        if j > 0:\n",
    "            if (t == get_word(i[j-1], yor_tokenizer)) or (t == None):\n",
    "                temp.append('')\n",
    "            else:\n",
    "                temp.append(t)\n",
    "             \n",
    "        else:\n",
    "            if(t == None):\n",
    "                temp.append('')\n",
    "            else:\n",
    "                temp.append(t)            \n",
    "        \n",
    "    preds_text.append(' '.join(temp))\n",
    "print(f\"Translation: {preds_text[0].strip()}\")"
   ]
  },
  {
   "cell_type": "code",
   "execution_count": null,
   "id": "d3b7634e",
   "metadata": {},
   "outputs": [],
   "source": []
  }
 ],
 "metadata": {
  "kernelspec": {
   "display_name": "Python 3 (ipykernel)",
   "language": "python",
   "name": "python3"
  },
  "language_info": {
   "codemirror_mode": {
    "name": "ipython",
    "version": 3
   },
   "file_extension": ".py",
   "mimetype": "text/x-python",
   "name": "python",
   "nbconvert_exporter": "python",
   "pygments_lexer": "ipython3",
   "version": "3.11.5"
  }
 },
 "nbformat": 4,
 "nbformat_minor": 5
}
